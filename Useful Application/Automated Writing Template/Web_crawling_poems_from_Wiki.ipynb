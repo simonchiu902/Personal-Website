{
 "cells": [
  {
   "cell_type": "markdown",
   "id": "509576aa-cbc9-4edc-b048-6ddf995bae99",
   "metadata": {},
   "source": [
    "---\n",
    "title: \"自建宋詞練字本\"\n",
    "author: \"Simon Chiu\"\n",
    "execute: \n",
    "  warning: false\n",
    "---"
   ]
  },
  {
   "cell_type": "markdown",
   "id": "62185a0f-b608-43a1-843f-14e317a340ea",
   "metadata": {},
   "source": [
    "# 1. 簡介"
   ]
  },
  {
   "cell_type": "markdown",
   "id": "a1873807-a3ec-4fc6-8f79-013ec484716f",
   "metadata": {},
   "source": [
    "近來不論是學習或是娛樂都離不開3C產品，因此覺得眼睛過於疲累。剛好過年期間看了甄還傳，體會了宋詞之美，因此想說不如利用爬蟲技術，自動化建立一個練字本，讓自己在休憩時，能脫離屏幕，一邊練字，一邊欣賞古代文字之美。"
   ]
  },
  {
   "cell_type": "markdown",
   "id": "4918e162-4dd9-440a-a960-36d2dcd5a032",
   "metadata": {},
   "source": [
    "# 2. 程式demo"
   ]
  },
  {
   "cell_type": "markdown",
   "id": "71ddd068-394a-40cd-866b-54990a525cda",
   "metadata": {},
   "source": [
    "1. Install and import required packages"
   ]
  },
  {
   "cell_type": "code",
   "execution_count": 8,
   "id": "3e750820-e13e-4d14-8259-e47d6ce9b985",
   "metadata": {
    "tags": []
   },
   "outputs": [],
   "source": [
    "# pip install python-docx\n",
    "\n",
    "#import reuqired packages\n",
    "import requests\n",
    "from bs4 import BeautifulSoup\n",
    "from docx import Document"
   ]
  },
  {
   "cell_type": "markdown",
   "id": "84da2862-26c7-4844-9c5f-756b7733a624",
   "metadata": {},
   "source": [
    "2. 用BeautifulSoup處理爬下來的網頁"
   ]
  },
  {
   "cell_type": "code",
   "execution_count": 10,
   "id": "83caf890-6e5a-4ab9-bc7e-fd98e2519548",
   "metadata": {
    "tags": []
   },
   "outputs": [],
   "source": [
    "# get soup\n",
    "# URL of the webpage containing the poem\n",
    "url = \"https://zh.wikisource.org/zh-hant/%E5%AE%8B%E8%A9%9E%E4%B8%89%E7%99%BE%E9%A6%96\"\n",
    "\n",
    "# Send a GET request to the URL\n",
    "response = requests.get(url)\n",
    "\n",
    "# Parse the HTML content\n",
    "soup = BeautifulSoup(response.content, 'html.parser')"
   ]
  },
  {
   "cell_type": "markdown",
   "id": "10109126-1f1c-4d82-9d29-0de369cb72b4",
   "metadata": {},
   "source": [
    "3. 觀察wiki網頁原始碼，可以發現詞主要存在div class=\"poem\"，所以用find_all找出所有詞"
   ]
  },
  {
   "cell_type": "markdown",
   "id": "b191adb1-54aa-4cff-bea8-330350de8f96",
   "metadata": {},
   "source": [
    "<img src=\"image/picture1.png\" width=\"800\" height=\"300\">"
   ]
  },
  {
   "cell_type": "markdown",
   "id": "462f542b-e52f-4fd3-bf08-dad544cde72b",
   "metadata": {},
   "source": [
    "<img src=\"image/picture2.png\" width=\"500\" height=\"100\">"
   ]
  },
  {
   "cell_type": "code",
   "execution_count": 11,
   "id": "2c36975b-4ade-4d2c-b39f-7671c771f104",
   "metadata": {
    "tags": []
   },
   "outputs": [],
   "source": [
    "# Find the div with class 'poem'\n",
    "poem_div = soup.find_all('div', class_='poem')"
   ]
  },
  {
   "cell_type": "markdown",
   "id": "d0084e4c-5008-4374-8a6d-e4e510eb62f3",
   "metadata": {},
   "source": [
    "4. 以下用頭3闕詞來demo如何preprocessing"
   ]
  },
  {
   "cell_type": "code",
   "execution_count": 26,
   "id": "de6b9b48-4f8f-415c-b655-9afd0db44341",
   "metadata": {
    "tags": []
   },
   "outputs": [
    {
     "name": "stdout",
     "output_type": "stream",
     "text": [
      "[<div class=\"poem\">\n",
      "<p>裁翦冰綃，輕疊數重，淡著燕脂勻注。新樣靚妝，艷溢香融，羞殺蕊珠宮女。易得凋零，更多少、無情風雨。愁苦。問院落淒涼，幾番春暮？　　憑寄離恨重重，者雙燕何曾，會人言語？天遙地遠，萬水千山，知他故宮何處？怎不思量？除夢裏、有時曾去。無據。和夢也、新來不做。\n",
      "</p>\n",
      "</div>, <div class=\"poem\">\n",
      "<p>城上風光鶯語亂。城下煙波春拍岸。綠楊芳草幾時休？淚眼愁腸先已斷。　　情懷漸覺成衰晚。鸞鏡朱顏驚暗換。昔年多病厭芳尊，今日芳尊惟恐淺。\n",
      "</p>\n",
      "</div>, <div class=\"poem\">\n",
      "<p>碧雲天，黃葉地，秋色連波，波上寒煙翠。<br/>\n",
      "山映斜陽天接水，芳草無情，更在斜陽外。<br/>\n",
      "<br/>\n",
      "黯鄉魂，追旅思，夜夜除非，好夢留人睡。<br/>\n",
      "明月樓高休獨倚，酒入愁腸，化作相思淚。\n",
      "</p>\n",
      "</div>]\n"
     ]
    }
   ],
   "source": [
    "#select first 3 poem for demo\n",
    "test_poem_div = poem_div[:3]\n",
    "print(test_poem_div)"
   ]
  },
  {
   "cell_type": "markdown",
   "id": "2b9c7878-9e20-48ac-aa63-ee65dc5e3d94",
   "metadata": {},
   "source": [
    "首先，用find('p')提取詞的主體，接著用replace除去任何可能的換行或空白"
   ]
  },
  {
   "cell_type": "code",
   "execution_count": 30,
   "id": "5a7ccb3a-5cb2-448d-9cd4-322dec419f3d",
   "metadata": {
    "tags": []
   },
   "outputs": [
    {
     "data": {
      "text/plain": [
       "['裁翦冰綃，輕疊數重，淡著燕脂勻注。新樣靚妝，艷溢香融，羞殺蕊珠宮女。易得凋零，更多少、無情風雨。愁苦。問院落淒涼，幾番春暮？憑寄離恨重重，者雙燕何曾，會人言語？天遙地遠，萬水千山，知他故宮何處？怎不思量？除夢裏、有時曾去。無據。和夢也、新來不做。',\n",
       " '城上風光鶯語亂。城下煙波春拍岸。綠楊芳草幾時休？淚眼愁腸先已斷。情懷漸覺成衰晚。鸞鏡朱顏驚暗換。昔年多病厭芳尊，今日芳尊惟恐淺。',\n",
       " '碧雲天，黃葉地，秋色連波，波上寒煙翠。山映斜陽天接水，芳草無情，更在斜陽外。黯鄉魂，追旅思，夜夜除非，好夢留人睡。明月樓高休獨倚，酒入愁腸，化作相思淚。']"
      ]
     },
     "execution_count": 30,
     "metadata": {},
     "output_type": "execute_result"
    }
   ],
   "source": [
    "# create test_list to store processed poems\n",
    "test_list = []\n",
    "# loop through all poem to extract p and then remove extra white space\n",
    "for poem_div in test_poem_div:\n",
    "    text = ''.join(poem_div.find('p').strings)\n",
    "    text = text.strip().replace('\\n', '').replace('\\t', '').replace(' ', '').replace('\\u3000', '')  # Remove leading/trailing whitespace and other possible whitespace\n",
    "    test_list.append(text)\n",
    "# show result\n",
    "test_list"
   ]
  },
  {
   "cell_type": "markdown",
   "id": "039a682b-90e5-46df-b73b-920f98cf61dd",
   "metadata": {},
   "source": [
    "最後便可以把處理完的詞存進word"
   ]
  },
  {
   "cell_type": "code",
   "execution_count": 32,
   "id": "0d293d3f-3676-4394-b6df-3df85728b83d",
   "metadata": {
    "tags": []
   },
   "outputs": [],
   "source": [
    "# Write the text into a Word document\n",
    "doc = Document()\n",
    "for poem in test_list:\n",
    "    doc.add_paragraph(poem)\n",
    "# Save the Word document\n",
    "doc.save('test_poems.docx')"
   ]
  },
  {
   "cell_type": "markdown",
   "id": "c5d23b76-bec6-4137-b888-fa3a367e6010",
   "metadata": {},
   "source": [
    "# 3. Word處理"
   ]
  },
  {
   "cell_type": "markdown",
   "id": "50be7ea0-a622-416f-b3a0-ad3d60dac0ae",
   "metadata": {},
   "source": [
    "最後只需將字調成自己喜歡的字體、換一個較淡的顏色、調整字體大小，便可以印出來當作練字本了。"
   ]
  },
  {
   "cell_type": "markdown",
   "id": "fd2372a2-d98e-4b34-95c5-5427c813262b",
   "metadata": {},
   "source": [
    "<img src=\"image/picture3.png\" width=\"700\" height=\"500\">"
   ]
  },
  {
   "cell_type": "markdown",
   "id": "976717ae-ac52-4012-9d16-5fdc0da45040",
   "metadata": {},
   "source": [
    "<img src=\"image/picture4.png\" width=\"800\" height=\"500\">"
   ]
  },
  {
   "cell_type": "markdown",
   "id": "40650183-18b4-46fa-89cb-b218c55189d7",
   "metadata": {},
   "source": [
    "<img src=\"image/picture5.png\" width=\"700\" height=\"500\">"
   ]
  },
  {
   "cell_type": "markdown",
   "id": "4ea09230-0df2-41ee-b0b3-5953307c76a1",
   "metadata": {},
   "source": [
    "# 4. 完整code"
   ]
  },
  {
   "cell_type": "code",
   "execution_count": null,
   "id": "81cf2b10-6210-430b-be96-f918a1bdd8f9",
   "metadata": {},
   "outputs": [],
   "source": [
    "# get soup\n",
    "# URL of the webpage containing the poem\n",
    "url = \"https://zh.wikisource.org/zh-hant/%E5%AE%8B%E8%A9%9E%E4%B8%89%E7%99%BE%E9%A6%96\"\n",
    "\n",
    "# Send a GET request to the URL\n",
    "response = requests.get(url)\n",
    "\n",
    "# Parse the HTML content\n",
    "soup = BeautifulSoup(response.content, 'html.parser')\n",
    "\n",
    "# Find the div with class 'poem'\n",
    "poem_div = soup.find_all('div', class_='poem')\n",
    "\n",
    "# create result_list to store processed poems\n",
    "result_list = []\n",
    "# loop through all poem to extract p and then remove extra white space\n",
    "for poem in poem_div:\n",
    "    text = ''.join(poem.find('p').strings)\n",
    "    text = text.strip().replace('\\n', '').replace('\\t', '').replace(' ', '').replace('\\u3000', '')  # Remove leading/trailing whitespace and other possible whitespace\n",
    "    result_list.append(text)\n",
    "\n",
    "# Write the text into a Word document\n",
    "doc = Document()\n",
    "for poem in result_list:\n",
    "    doc.add_paragraph(poem)\n",
    "# Save the Word document\n",
    "doc.save('all_poems.docx')"
   ]
  }
 ],
 "metadata": {
  "kernelspec": {
   "display_name": "Python 3 (ipykernel)",
   "language": "python",
   "name": "python3"
  },
  "language_info": {
   "codemirror_mode": {
    "name": "ipython",
    "version": 3
   },
   "file_extension": ".py",
   "mimetype": "text/x-python",
   "name": "python",
   "nbconvert_exporter": "python",
   "pygments_lexer": "ipython3",
   "version": "3.11.4"
  }
 },
 "nbformat": 4,
 "nbformat_minor": 5
}
